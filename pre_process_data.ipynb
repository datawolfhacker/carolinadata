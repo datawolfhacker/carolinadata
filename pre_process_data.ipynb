{
 "cells": [
  {
   "cell_type": "code",
   "execution_count": 16,
   "metadata": {
    "collapsed": true
   },
   "outputs": [],
   "source": [
    "import numpy as np\n",
    "import pandas as pd"
   ]
  },
  {
   "cell_type": "code",
   "execution_count": 17,
   "metadata": {
    "collapsed": false
   },
   "outputs": [
    {
     "name": "stderr",
     "output_type": "stream",
     "text": [
      "/Users/zexichen/anaconda3/envs/py27/lib/python2.7/site-packages/IPython/core/interactiveshell.py:2717: DtypeWarning: Columns (17) have mixed types. Specify dtype option on import or set low_memory=False.\n",
      "  interactivity=interactivity, compiler=compiler, result=result)\n"
     ]
    }
   ],
   "source": [
    "# read the csv file\n",
    "raw_data = pd.read_csv(\"NYPD_Complaint_Data_Historic_short.csv\")"
   ]
  },
  {
   "cell_type": "code",
   "execution_count": 18,
   "metadata": {
    "collapsed": false
   },
   "outputs": [
    {
     "data": {
      "text/html": [
       "<div>\n",
       "<table border=\"1\" class=\"dataframe\">\n",
       "  <thead>\n",
       "    <tr style=\"text-align: right;\">\n",
       "      <th></th>\n",
       "      <th>CMPLNT_NUM</th>\n",
       "      <th>CMPLNT_FR_DT</th>\n",
       "      <th>CMPLNT_FR_TM</th>\n",
       "      <th>CMPLNT_TO_DT</th>\n",
       "      <th>CMPLNT_TO_TM</th>\n",
       "      <th>RPT_DT</th>\n",
       "      <th>KY_CD</th>\n",
       "      <th>OFNS_DESC</th>\n",
       "      <th>PD_CD</th>\n",
       "      <th>PD_DESC</th>\n",
       "      <th>...</th>\n",
       "      <th>ADDR_PCT_CD</th>\n",
       "      <th>LOC_OF_OCCUR_DESC</th>\n",
       "      <th>PREM_TYP_DESC</th>\n",
       "      <th>PARKS_NM</th>\n",
       "      <th>HADEVELOPT</th>\n",
       "      <th>X_COORD_CD</th>\n",
       "      <th>Y_COORD_CD</th>\n",
       "      <th>Latitude</th>\n",
       "      <th>Longitude</th>\n",
       "      <th>Lat_Lon</th>\n",
       "    </tr>\n",
       "  </thead>\n",
       "  <tbody>\n",
       "    <tr>\n",
       "      <th>0</th>\n",
       "      <td>101109527</td>\n",
       "      <td>12/31/2015</td>\n",
       "      <td>23:45:00</td>\n",
       "      <td>NaN</td>\n",
       "      <td>NaN</td>\n",
       "      <td>12/31/2015</td>\n",
       "      <td>113</td>\n",
       "      <td>FORGERY</td>\n",
       "      <td>729.0</td>\n",
       "      <td>FORGERY,ETC.,UNCLASSIFIED-FELO</td>\n",
       "      <td>...</td>\n",
       "      <td>44.0</td>\n",
       "      <td>INSIDE</td>\n",
       "      <td>BAR/NIGHT CLUB</td>\n",
       "      <td>NaN</td>\n",
       "      <td>NaN</td>\n",
       "      <td>1007314.0</td>\n",
       "      <td>241257.0</td>\n",
       "      <td>40.828848</td>\n",
       "      <td>-73.916661</td>\n",
       "      <td>(40.828848333, -73.916661142)</td>\n",
       "    </tr>\n",
       "    <tr>\n",
       "      <th>1</th>\n",
       "      <td>153401121</td>\n",
       "      <td>12/31/2015</td>\n",
       "      <td>23:36:00</td>\n",
       "      <td>NaN</td>\n",
       "      <td>NaN</td>\n",
       "      <td>12/31/2015</td>\n",
       "      <td>101</td>\n",
       "      <td>MURDER &amp; NON-NEGL. MANSLAUGHTER</td>\n",
       "      <td>NaN</td>\n",
       "      <td>NaN</td>\n",
       "      <td>...</td>\n",
       "      <td>103.0</td>\n",
       "      <td>OUTSIDE</td>\n",
       "      <td>NaN</td>\n",
       "      <td>NaN</td>\n",
       "      <td>NaN</td>\n",
       "      <td>1043991.0</td>\n",
       "      <td>193406.0</td>\n",
       "      <td>40.697338</td>\n",
       "      <td>-73.784557</td>\n",
       "      <td>(40.697338138, -73.784556739)</td>\n",
       "    </tr>\n",
       "    <tr>\n",
       "      <th>2</th>\n",
       "      <td>569369778</td>\n",
       "      <td>12/31/2015</td>\n",
       "      <td>23:30:00</td>\n",
       "      <td>NaN</td>\n",
       "      <td>NaN</td>\n",
       "      <td>12/31/2015</td>\n",
       "      <td>117</td>\n",
       "      <td>DANGEROUS DRUGS</td>\n",
       "      <td>503.0</td>\n",
       "      <td>CONTROLLED SUBSTANCE,INTENT TO</td>\n",
       "      <td>...</td>\n",
       "      <td>28.0</td>\n",
       "      <td>NaN</td>\n",
       "      <td>OTHER</td>\n",
       "      <td>NaN</td>\n",
       "      <td>NaN</td>\n",
       "      <td>999463.0</td>\n",
       "      <td>231690.0</td>\n",
       "      <td>40.802607</td>\n",
       "      <td>-73.945052</td>\n",
       "      <td>(40.802606608, -73.945051911)</td>\n",
       "    </tr>\n",
       "    <tr>\n",
       "      <th>3</th>\n",
       "      <td>968417082</td>\n",
       "      <td>12/31/2015</td>\n",
       "      <td>23:30:00</td>\n",
       "      <td>NaN</td>\n",
       "      <td>NaN</td>\n",
       "      <td>12/31/2015</td>\n",
       "      <td>344</td>\n",
       "      <td>ASSAULT 3 &amp; RELATED OFFENSES</td>\n",
       "      <td>101.0</td>\n",
       "      <td>ASSAULT 3</td>\n",
       "      <td>...</td>\n",
       "      <td>105.0</td>\n",
       "      <td>INSIDE</td>\n",
       "      <td>RESIDENCE-HOUSE</td>\n",
       "      <td>NaN</td>\n",
       "      <td>NaN</td>\n",
       "      <td>1060183.0</td>\n",
       "      <td>177862.0</td>\n",
       "      <td>40.654549</td>\n",
       "      <td>-73.726339</td>\n",
       "      <td>(40.654549444, -73.726338791)</td>\n",
       "    </tr>\n",
       "    <tr>\n",
       "      <th>4</th>\n",
       "      <td>641637920</td>\n",
       "      <td>12/31/2015</td>\n",
       "      <td>23:25:00</td>\n",
       "      <td>12/31/2015</td>\n",
       "      <td>23:30:00</td>\n",
       "      <td>12/31/2015</td>\n",
       "      <td>344</td>\n",
       "      <td>ASSAULT 3 &amp; RELATED OFFENSES</td>\n",
       "      <td>101.0</td>\n",
       "      <td>ASSAULT 3</td>\n",
       "      <td>...</td>\n",
       "      <td>13.0</td>\n",
       "      <td>FRONT OF</td>\n",
       "      <td>OTHER</td>\n",
       "      <td>NaN</td>\n",
       "      <td>NaN</td>\n",
       "      <td>987606.0</td>\n",
       "      <td>208148.0</td>\n",
       "      <td>40.738002</td>\n",
       "      <td>-73.987891</td>\n",
       "      <td>(40.7380024, -73.98789129)</td>\n",
       "    </tr>\n",
       "    <tr>\n",
       "      <th>5</th>\n",
       "      <td>365661343</td>\n",
       "      <td>12/31/2015</td>\n",
       "      <td>23:18:00</td>\n",
       "      <td>12/31/2015</td>\n",
       "      <td>23:25:00</td>\n",
       "      <td>12/31/2015</td>\n",
       "      <td>106</td>\n",
       "      <td>FELONY ASSAULT</td>\n",
       "      <td>109.0</td>\n",
       "      <td>ASSAULT 2,1,UNCLASSIFIED</td>\n",
       "      <td>...</td>\n",
       "      <td>71.0</td>\n",
       "      <td>FRONT OF</td>\n",
       "      <td>DRUG STORE</td>\n",
       "      <td>NaN</td>\n",
       "      <td>NaN</td>\n",
       "      <td>996149.0</td>\n",
       "      <td>181562.0</td>\n",
       "      <td>40.665023</td>\n",
       "      <td>-73.957111</td>\n",
       "      <td>(40.665022689, -73.957110763)</td>\n",
       "    </tr>\n",
       "    <tr>\n",
       "      <th>6</th>\n",
       "      <td>608231454</td>\n",
       "      <td>12/31/2015</td>\n",
       "      <td>23:15:00</td>\n",
       "      <td>NaN</td>\n",
       "      <td>NaN</td>\n",
       "      <td>12/31/2015</td>\n",
       "      <td>235</td>\n",
       "      <td>DANGEROUS DRUGS</td>\n",
       "      <td>511.0</td>\n",
       "      <td>CONTROLLED SUBSTANCE, POSSESSI</td>\n",
       "      <td>...</td>\n",
       "      <td>7.0</td>\n",
       "      <td>OPPOSITE OF</td>\n",
       "      <td>STREET</td>\n",
       "      <td>NaN</td>\n",
       "      <td>NaN</td>\n",
       "      <td>987373.0</td>\n",
       "      <td>201662.0</td>\n",
       "      <td>40.720200</td>\n",
       "      <td>-73.988735</td>\n",
       "      <td>(40.720199996, -73.988735082)</td>\n",
       "    </tr>\n",
       "    <tr>\n",
       "      <th>7</th>\n",
       "      <td>265023856</td>\n",
       "      <td>12/31/2015</td>\n",
       "      <td>23:15:00</td>\n",
       "      <td>12/31/2015</td>\n",
       "      <td>23:15:00</td>\n",
       "      <td>12/31/2015</td>\n",
       "      <td>118</td>\n",
       "      <td>DANGEROUS WEAPONS</td>\n",
       "      <td>792.0</td>\n",
       "      <td>WEAPONS POSSESSION 1 &amp; 2</td>\n",
       "      <td>...</td>\n",
       "      <td>46.0</td>\n",
       "      <td>FRONT OF</td>\n",
       "      <td>STREET</td>\n",
       "      <td>NaN</td>\n",
       "      <td>NaN</td>\n",
       "      <td>1009041.0</td>\n",
       "      <td>247401.0</td>\n",
       "      <td>40.845707</td>\n",
       "      <td>-73.910398</td>\n",
       "      <td>(40.845707148, -73.910398033)</td>\n",
       "    </tr>\n",
       "    <tr>\n",
       "      <th>8</th>\n",
       "      <td>989238731</td>\n",
       "      <td>12/31/2015</td>\n",
       "      <td>23:15:00</td>\n",
       "      <td>12/31/2015</td>\n",
       "      <td>23:30:00</td>\n",
       "      <td>12/31/2015</td>\n",
       "      <td>344</td>\n",
       "      <td>ASSAULT 3 &amp; RELATED OFFENSES</td>\n",
       "      <td>101.0</td>\n",
       "      <td>ASSAULT 3</td>\n",
       "      <td>...</td>\n",
       "      <td>48.0</td>\n",
       "      <td>INSIDE</td>\n",
       "      <td>RESIDENCE - APT. HOUSE</td>\n",
       "      <td>NaN</td>\n",
       "      <td>NaN</td>\n",
       "      <td>1014154.0</td>\n",
       "      <td>251416.0</td>\n",
       "      <td>40.856711</td>\n",
       "      <td>-73.891900</td>\n",
       "      <td>(40.856711291, -73.891899956)</td>\n",
       "    </tr>\n",
       "    <tr>\n",
       "      <th>9</th>\n",
       "      <td>415095955</td>\n",
       "      <td>12/31/2015</td>\n",
       "      <td>23:10:00</td>\n",
       "      <td>12/31/2015</td>\n",
       "      <td>23:10:00</td>\n",
       "      <td>12/31/2015</td>\n",
       "      <td>341</td>\n",
       "      <td>PETIT LARCENY</td>\n",
       "      <td>338.0</td>\n",
       "      <td>LARCENY,PETIT FROM BUILDING,UN</td>\n",
       "      <td>...</td>\n",
       "      <td>19.0</td>\n",
       "      <td>INSIDE</td>\n",
       "      <td>DRUG STORE</td>\n",
       "      <td>NaN</td>\n",
       "      <td>NaN</td>\n",
       "      <td>994327.0</td>\n",
       "      <td>218211.0</td>\n",
       "      <td>40.765618</td>\n",
       "      <td>-73.963623</td>\n",
       "      <td>(40.765617688, -73.96362342)</td>\n",
       "    </tr>\n",
       "  </tbody>\n",
       "</table>\n",
       "<p>10 rows × 24 columns</p>\n",
       "</div>"
      ],
      "text/plain": [
       "   CMPLNT_NUM CMPLNT_FR_DT CMPLNT_FR_TM CMPLNT_TO_DT CMPLNT_TO_TM      RPT_DT  \\\n",
       "0   101109527   12/31/2015     23:45:00          NaN          NaN  12/31/2015   \n",
       "1   153401121   12/31/2015     23:36:00          NaN          NaN  12/31/2015   \n",
       "2   569369778   12/31/2015     23:30:00          NaN          NaN  12/31/2015   \n",
       "3   968417082   12/31/2015     23:30:00          NaN          NaN  12/31/2015   \n",
       "4   641637920   12/31/2015     23:25:00   12/31/2015     23:30:00  12/31/2015   \n",
       "5   365661343   12/31/2015     23:18:00   12/31/2015     23:25:00  12/31/2015   \n",
       "6   608231454   12/31/2015     23:15:00          NaN          NaN  12/31/2015   \n",
       "7   265023856   12/31/2015     23:15:00   12/31/2015     23:15:00  12/31/2015   \n",
       "8   989238731   12/31/2015     23:15:00   12/31/2015     23:30:00  12/31/2015   \n",
       "9   415095955   12/31/2015     23:10:00   12/31/2015     23:10:00  12/31/2015   \n",
       "\n",
       "   KY_CD                        OFNS_DESC  PD_CD  \\\n",
       "0    113                          FORGERY  729.0   \n",
       "1    101  MURDER & NON-NEGL. MANSLAUGHTER    NaN   \n",
       "2    117                  DANGEROUS DRUGS  503.0   \n",
       "3    344     ASSAULT 3 & RELATED OFFENSES  101.0   \n",
       "4    344     ASSAULT 3 & RELATED OFFENSES  101.0   \n",
       "5    106                   FELONY ASSAULT  109.0   \n",
       "6    235                  DANGEROUS DRUGS  511.0   \n",
       "7    118                DANGEROUS WEAPONS  792.0   \n",
       "8    344     ASSAULT 3 & RELATED OFFENSES  101.0   \n",
       "9    341                    PETIT LARCENY  338.0   \n",
       "\n",
       "                          PD_DESC              ...               ADDR_PCT_CD  \\\n",
       "0  FORGERY,ETC.,UNCLASSIFIED-FELO              ...                      44.0   \n",
       "1                             NaN              ...                     103.0   \n",
       "2  CONTROLLED SUBSTANCE,INTENT TO              ...                      28.0   \n",
       "3                       ASSAULT 3              ...                     105.0   \n",
       "4                       ASSAULT 3              ...                      13.0   \n",
       "5        ASSAULT 2,1,UNCLASSIFIED              ...                      71.0   \n",
       "6  CONTROLLED SUBSTANCE, POSSESSI              ...                       7.0   \n",
       "7        WEAPONS POSSESSION 1 & 2              ...                      46.0   \n",
       "8                       ASSAULT 3              ...                      48.0   \n",
       "9  LARCENY,PETIT FROM BUILDING,UN              ...                      19.0   \n",
       "\n",
       "  LOC_OF_OCCUR_DESC           PREM_TYP_DESC PARKS_NM  HADEVELOPT X_COORD_CD  \\\n",
       "0            INSIDE          BAR/NIGHT CLUB      NaN         NaN  1007314.0   \n",
       "1           OUTSIDE                     NaN      NaN         NaN  1043991.0   \n",
       "2               NaN                   OTHER      NaN         NaN   999463.0   \n",
       "3            INSIDE         RESIDENCE-HOUSE      NaN         NaN  1060183.0   \n",
       "4          FRONT OF                   OTHER      NaN         NaN   987606.0   \n",
       "5          FRONT OF              DRUG STORE      NaN         NaN   996149.0   \n",
       "6       OPPOSITE OF                  STREET      NaN         NaN   987373.0   \n",
       "7          FRONT OF                  STREET      NaN         NaN  1009041.0   \n",
       "8            INSIDE  RESIDENCE - APT. HOUSE      NaN         NaN  1014154.0   \n",
       "9            INSIDE              DRUG STORE      NaN         NaN   994327.0   \n",
       "\n",
       "  Y_COORD_CD   Latitude  Longitude                        Lat_Lon  \n",
       "0   241257.0  40.828848 -73.916661  (40.828848333, -73.916661142)  \n",
       "1   193406.0  40.697338 -73.784557  (40.697338138, -73.784556739)  \n",
       "2   231690.0  40.802607 -73.945052  (40.802606608, -73.945051911)  \n",
       "3   177862.0  40.654549 -73.726339  (40.654549444, -73.726338791)  \n",
       "4   208148.0  40.738002 -73.987891     (40.7380024, -73.98789129)  \n",
       "5   181562.0  40.665023 -73.957111  (40.665022689, -73.957110763)  \n",
       "6   201662.0  40.720200 -73.988735  (40.720199996, -73.988735082)  \n",
       "7   247401.0  40.845707 -73.910398  (40.845707148, -73.910398033)  \n",
       "8   251416.0  40.856711 -73.891900  (40.856711291, -73.891899956)  \n",
       "9   218211.0  40.765618 -73.963623   (40.765617688, -73.96362342)  \n",
       "\n",
       "[10 rows x 24 columns]"
      ]
     },
     "execution_count": 18,
     "metadata": {},
     "output_type": "execute_result"
    }
   ],
   "source": [
    "raw_data[:10]"
   ]
  },
  {
   "cell_type": "code",
   "execution_count": 19,
   "metadata": {
    "collapsed": true
   },
   "outputs": [],
   "source": [
    "lu = {'cfd':'CMPLNT_FR_DT', 'cft':'CMPLNT_FR_TM', 'ctd':'CMPLNT_TO_DT', 'ctt':'CMPLNT_TO_TM', 'lcc':'LAW_CAT_CD', 'apc':'ADDR_PCT_CD'}\n",
    "law_cat = {'FELONY':1, 'MISDEMEANOR':2, 'N.Y. HOUSING POLICE':3}\n",
    "effective_columns = ['CMPLNT_FR_DT', 'CMPLNT_FR_TM', 'LAW_CAT_CD', 'ADDR_PCT_CD', 'X_COORD_CD', 'Y_COORD_CD', 'Latitude', 'Longitude']"
   ]
  },
  {
   "cell_type": "code",
   "execution_count": 20,
   "metadata": {
    "collapsed": true
   },
   "outputs": [],
   "source": [
    "# count nan values in each column\n",
    "def count_nan(df):\n",
    "    return df.isnull().sum()"
   ]
  },
  {
   "cell_type": "code",
   "execution_count": 21,
   "metadata": {
    "collapsed": false
   },
   "outputs": [
    {
     "name": "stdout",
     "output_type": "stream",
     "text": [
      "(2979512, 24)\n"
     ]
    }
   ],
   "source": [
    "print raw_data.shape"
   ]
  },
  {
   "cell_type": "code",
   "execution_count": 22,
   "metadata": {
    "collapsed": false
   },
   "outputs": [],
   "source": [
    "def print_num_nan_rows_per_column(df):\n",
    "    for col in df:\n",
    "        print 'The number of nan rows in column %s is %d'%(col, count_nan(df[col]))"
   ]
  },
  {
   "cell_type": "code",
   "execution_count": 23,
   "metadata": {
    "collapsed": false
   },
   "outputs": [],
   "source": [
    "def replace_null(df_to_replace, df_from_replace):\n",
    "    rows = df_to_replace.isnull() & (~df_from_replace.isnull())\n",
    "    df_to_replace[rows] = df_from_replace[rows]\n",
    "    return"
   ]
  },
  {
   "cell_type": "code",
   "execution_count": 24,
   "metadata": {
    "collapsed": true
   },
   "outputs": [],
   "source": [
    "def remove_rows(df, col):\n",
    "    # remove rows if it is nan in some column of the dataframe\n",
    "    df.drop(df.index[df[col].isnull()], inplace=True)\n",
    "    \n",
    "    return"
   ]
  },
  {
   "cell_type": "code",
   "execution_count": 25,
   "metadata": {
    "collapsed": false
   },
   "outputs": [
    {
     "name": "stderr",
     "output_type": "stream",
     "text": [
      "/Users/zexichen/anaconda3/envs/py27/lib/python2.7/site-packages/ipykernel/__main__.py:3: SettingWithCopyWarning: \n",
      "A value is trying to be set on a copy of a slice from a DataFrame\n",
      "\n",
      "See the caveats in the documentation: http://pandas.pydata.org/pandas-docs/stable/indexing.html#indexing-view-versus-copy\n",
      "  app.launch_new_instance()\n"
     ]
    }
   ],
   "source": [
    "# pre-process event occurs date. First, if the date does not exist, using event end date to replace it.\n",
    "# Afterwards, remove null rows\n",
    "replace_null(raw_data[lu['cfd']], raw_data[lu['ctd']])\n",
    "remove_rows(raw_data, lu['cfd'])"
   ]
  },
  {
   "cell_type": "code",
   "execution_count": 26,
   "metadata": {
    "collapsed": false
   },
   "outputs": [
    {
     "name": "stderr",
     "output_type": "stream",
     "text": [
      "/Users/zexichen/anaconda3/envs/py27/lib/python2.7/site-packages/ipykernel/__main__.py:3: SettingWithCopyWarning: \n",
      "A value is trying to be set on a copy of a slice from a DataFrame\n",
      "\n",
      "See the caveats in the documentation: http://pandas.pydata.org/pandas-docs/stable/indexing.html#indexing-view-versus-copy\n",
      "  app.launch_new_instance()\n"
     ]
    }
   ],
   "source": [
    "# pre-process event occurs time. First, if the time does not exist, using event end time to replace it.\n",
    "# Afterwards, remove null rows\n",
    "replace_null(raw_data[lu['cft']], raw_data[lu['ctt']])\n",
    "remove_rows(raw_data, lu['cft'])"
   ]
  },
  {
   "cell_type": "code",
   "execution_count": 27,
   "metadata": {
    "collapsed": false
   },
   "outputs": [],
   "source": [
    "# replace the different crime categories with numerial values\n",
    "raw_data[lu['lcc']] = pd.Categorical(raw_data[lu['lcc']]).codes"
   ]
  },
  {
   "cell_type": "code",
   "execution_count": 28,
   "metadata": {
    "collapsed": true
   },
   "outputs": [],
   "source": [
    "remove_rows(raw_data, lu['apc'])"
   ]
  },
  {
   "cell_type": "code",
   "execution_count": 29,
   "metadata": {
    "collapsed": false
   },
   "outputs": [],
   "source": [
    "# extract useful columns\n",
    "new_data = raw_data[effective_columns ]"
   ]
  },
  {
   "cell_type": "code",
   "execution_count": 30,
   "metadata": {
    "collapsed": false
   },
   "outputs": [],
   "source": [
    "new_data.to_csv('preprocessed_NYPD_Complaint_Data_Historic_short.csv', index=False)"
   ]
  },
  {
   "cell_type": "code",
   "execution_count": 31,
   "metadata": {
    "collapsed": false
   },
   "outputs": [],
   "source": [
    "# read the csv file\n",
    "raw_data_1 = pd.read_csv(\"preprocessed_NYPD_Complaint_Data_Historic_short.csv\")"
   ]
  },
  {
   "cell_type": "code",
   "execution_count": 32,
   "metadata": {
    "collapsed": false
   },
   "outputs": [
    {
     "name": "stdout",
     "output_type": "stream",
     "text": [
      "The number of nan rows in column CMPLNT_FR_DT is 0\n",
      "The number of nan rows in column CMPLNT_FR_TM is 0\n",
      "The number of nan rows in column LAW_CAT_CD is 0\n",
      "The number of nan rows in column ADDR_PCT_CD is 0\n",
      "The number of nan rows in column X_COORD_CD is 105583\n",
      "The number of nan rows in column Y_COORD_CD is 105583\n",
      "The number of nan rows in column Latitude is 105583\n",
      "The number of nan rows in column Longitude is 105583\n"
     ]
    }
   ],
   "source": [
    "print_num_nan_rows_per_column(raw_data_1)"
   ]
  },
  {
   "cell_type": "code",
   "execution_count": null,
   "metadata": {
    "collapsed": true
   },
   "outputs": [],
   "source": []
  }
 ],
 "metadata": {
  "kernelspec": {
   "display_name": "Python 2",
   "language": "python",
   "name": "python2"
  },
  "language_info": {
   "codemirror_mode": {
    "name": "ipython",
    "version": 2
   },
   "file_extension": ".py",
   "mimetype": "text/x-python",
   "name": "python",
   "nbconvert_exporter": "python",
   "pygments_lexer": "ipython2",
   "version": "2.7.12"
  }
 },
 "nbformat": 4,
 "nbformat_minor": 2
}
