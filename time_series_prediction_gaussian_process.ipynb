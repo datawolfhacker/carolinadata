{
 "cells": [
  {
   "cell_type": "code",
   "execution_count": 49,
   "metadata": {
    "collapsed": false
   },
   "outputs": [],
   "source": [
    "import numpy as np\n",
    "import pandas as pd\n",
    "import matplotlib\n",
    "from sklearn import gaussian_process\n",
    "from sklearn.gaussian_process.kernels import Matern, WhiteKernel, ConstantKernel, RBF\n",
    "from sklearn.gaussian_process import GaussianProcessRegressor\n",
    "from matplotlib import pyplot as plt\n",
    "%matplotlib inline"
   ]
  },
  {
   "cell_type": "code",
   "execution_count": 68,
   "metadata": {
    "collapsed": true
   },
   "outputs": [],
   "source": [
    "for i in range(10):\n",
    "    df = pd.read_csv('time_series/time_series_of_cluster_{}.csv'.format(i))\n",
    "    df['date'] = df['date'].apply(lambda x: x[:-4] + str(int(x[-4:]) + 1000) if int(x[-4:]) < 1900 else x)\n",
    "    df.to_csv('time_series/time_series_of_cluster_{}.csv'.format(i), index=False)"
   ]
  },
  {
   "cell_type": "code",
   "execution_count": 69,
   "metadata": {
    "collapsed": true
   },
   "outputs": [],
   "source": [
    "df = pd.read_csv('time_series/time_series_of_cluster_{}.csv'.format(0))"
   ]
  },
  {
   "cell_type": "code",
   "execution_count": 84,
   "metadata": {
    "collapsed": true
   },
   "outputs": [],
   "source": [
    "for i in range(10):\n",
    "    df = pd.read_csv('time_series/time_series_of_cluster_{}.csv'.format(i))\n",
    "    df['date'] = pd.to_datetime(df.date)\n",
    "    df = df[df.date >= pd.to_datetime('2010-01-01')]\n",
    "    df = df.sort_values(['date'])\n",
    "    df.to_csv('time_series/time_series_of_cluster_{}.csv'.format(i), index=False)"
   ]
  },
  {
   "cell_type": "code",
   "execution_count": 85,
   "metadata": {
    "collapsed": true
   },
   "outputs": [],
   "source": [
    "for i in range(10):\n",
    "    df = pd.read_csv('time_series/time_series_of_cluster_{}.csv'.format(i))\n",
    "    df['date'] = pd.to_datetime(df.date)\n",
    "    df = df.groupby(['date']).sum()\n",
    "    idx = pd.date_range('2010-01-01', '2015-12-31')\n",
    "    df = df.reindex(idx, fill_value=0)\n",
    "    df.to_csv('time_series/time_series_of_cluster_{}.csv'.format(i))"
   ]
  },
  {
   "cell_type": "code",
   "execution_count": 89,
   "metadata": {
    "collapsed": false
   },
   "outputs": [
    {
     "name": "stdout",
     "output_type": "stream",
     "text": [
      "27.4328120671\n",
      "19.7363778186\n",
      "14.8869212185\n",
      "42.3200631881\n",
      "16.3427394023\n",
      "34.5113332213\n",
      "12.290267147\n",
      "5.99137607952\n",
      "16.7693568748\n",
      "36.8901143825\n"
     ]
    }
   ],
   "source": [
    "for i in range(10):\n",
    "    df = pd.read_csv('time_series/time_series_of_cluster_{}.csv'.format(i))\n",
    "    df.columns = ['date', 'count']\n",
    "    kernel = ConstantKernel() + Matern(length_scale=2, nu=3/2) + WhiteKernel(noise_level=1)\n",
    "    df['date'] = pd.to_datetime(df.date)\n",
    "    df1 = df[df['date'] <= pd.to_datetime('2014-12-31')]\n",
    "    df2 = df[df['date'] > pd.to_datetime('2014-12-31')]\n",
    "    y = df1['count'].values\n",
    "    y_truth = df2['count'].values\n",
    "    pred_len = y.shape[0]\n",
    "    total_len = df['count'].values.shape[0]\n",
    "    x1 = np.arange(y.shape[0])\n",
    "    x1 = x1.reshape(-1, 1)\n",
    "    x2 = np.arange(y_truth.shape[0])\n",
    "    x2 = x2.reshape(-1, 1)\n",
    "    gp = gaussian_process.GaussianProcessRegressor(kernel=kernel)\n",
    "    gp.fit(x1, y)\n",
    "    y_pred, sigma = gp.predict(x2, return_std=True)\n",
    "    print np.sqrt(np.square(y_truth - y_pred).sum()/365)"
   ]
  },
  {
   "cell_type": "code",
   "execution_count": 90,
   "metadata": {
    "collapsed": false
   },
   "outputs": [
    {
     "name": "stdout",
     "output_type": "stream",
     "text": [
      "19.7363778186\n"
     ]
    }
   ],
   "source": [
    "df = pd.read_csv('time_series/time_series_of_cluster_{}.csv'.format(1))\n",
    "df.columns = ['date', 'count']\n",
    "kernel = ConstantKernel() + Matern(length_scale=2, nu=3/2) + WhiteKernel(noise_level=1)\n",
    "df['date'] = pd.to_datetime(df.date)\n",
    "df1 = df[df['date'] <= pd.to_datetime('2014-12-31')]\n",
    "df2 = df[df['date'] > pd.to_datetime('2014-12-31')]\n",
    "y = df1['count'].values\n",
    "y_truth = df2['count'].values\n",
    "pred_len = y.shape[0]\n",
    "total_len = df['count'].values.shape[0]\n",
    "x1 = np.arange(y.shape[0])\n",
    "x1 = x1.reshape(-1, 1)\n",
    "x2 = np.arange(y_truth.shape[0])\n",
    "x2 = x2.reshape(-1, 1)\n",
    "gp = gaussian_process.GaussianProcessRegressor(kernel=kernel)\n",
    "gp.fit(x1, y)\n",
    "y_pred, sigma = gp.predict(x2, return_std=True)\n",
    "print np.sqrt(np.square(y_truth - y_pred).sum()/365)"
   ]
  },
  {
   "cell_type": "code",
   "execution_count": 22,
   "metadata": {
    "collapsed": false
   },
   "outputs": [
    {
     "data": {
      "text/html": [
       "<div>\n",
       "<style>\n",
       "    .dataframe thead tr:only-child th {\n",
       "        text-align: right;\n",
       "    }\n",
       "\n",
       "    .dataframe thead th {\n",
       "        text-align: left;\n",
       "    }\n",
       "\n",
       "    .dataframe tbody tr th {\n",
       "        vertical-align: top;\n",
       "    }\n",
       "</style>\n",
       "<table border=\"1\" class=\"dataframe\">\n",
       "  <thead>\n",
       "    <tr style=\"text-align: right;\">\n",
       "      <th></th>\n",
       "      <th>date</th>\n",
       "      <th>count</th>\n",
       "    </tr>\n",
       "  </thead>\n",
       "  <tbody>\n",
       "    <tr>\n",
       "      <th>0</th>\n",
       "      <td>2010-01-01</td>\n",
       "      <td>270</td>\n",
       "    </tr>\n",
       "    <tr>\n",
       "      <th>1</th>\n",
       "      <td>2010-01-02</td>\n",
       "      <td>159</td>\n",
       "    </tr>\n",
       "    <tr>\n",
       "      <th>2</th>\n",
       "      <td>2010-01-03</td>\n",
       "      <td>119</td>\n",
       "    </tr>\n",
       "    <tr>\n",
       "      <th>3</th>\n",
       "      <td>2010-01-04</td>\n",
       "      <td>159</td>\n",
       "    </tr>\n",
       "    <tr>\n",
       "      <th>4</th>\n",
       "      <td>2010-01-05</td>\n",
       "      <td>165</td>\n",
       "    </tr>\n",
       "    <tr>\n",
       "      <th>5</th>\n",
       "      <td>2010-01-06</td>\n",
       "      <td>202</td>\n",
       "    </tr>\n",
       "    <tr>\n",
       "      <th>6</th>\n",
       "      <td>2010-01-07</td>\n",
       "      <td>210</td>\n",
       "    </tr>\n",
       "    <tr>\n",
       "      <th>7</th>\n",
       "      <td>2010-01-08</td>\n",
       "      <td>185</td>\n",
       "    </tr>\n",
       "    <tr>\n",
       "      <th>8</th>\n",
       "      <td>2010-01-09</td>\n",
       "      <td>154</td>\n",
       "    </tr>\n",
       "    <tr>\n",
       "      <th>9</th>\n",
       "      <td>2010-01-10</td>\n",
       "      <td>142</td>\n",
       "    </tr>\n",
       "  </tbody>\n",
       "</table>\n",
       "</div>"
      ],
      "text/plain": [
       "         date  count\n",
       "0  2010-01-01    270\n",
       "1  2010-01-02    159\n",
       "2  2010-01-03    119\n",
       "3  2010-01-04    159\n",
       "4  2010-01-05    165\n",
       "5  2010-01-06    202\n",
       "6  2010-01-07    210\n",
       "7  2010-01-08    185\n",
       "8  2010-01-09    154\n",
       "9  2010-01-10    142"
      ]
     },
     "execution_count": 22,
     "metadata": {},
     "output_type": "execute_result"
    }
   ],
   "source": [
    "df[:10]"
   ]
  },
  {
   "cell_type": "code",
   "execution_count": 55,
   "metadata": {
    "collapsed": false
   },
   "outputs": [],
   "source": [
    "kernel = ConstantKernel(1.0, (1e-3, 1e3)) * RBF(10, (1e-2, 1e2))"
   ]
  },
  {
   "cell_type": "code",
   "execution_count": 56,
   "metadata": {
    "collapsed": true
   },
   "outputs": [],
   "source": [
    "df['date'] = pd.to_datetime(df.date)"
   ]
  },
  {
   "cell_type": "code",
   "execution_count": 57,
   "metadata": {
    "collapsed": false
   },
   "outputs": [],
   "source": [
    "df1 = df[df['date'] <= pd.to_datetime('2014-12-31')]"
   ]
  },
  {
   "cell_type": "code",
   "execution_count": 58,
   "metadata": {
    "collapsed": true
   },
   "outputs": [],
   "source": [
    "df2 = df[df['date'] > pd.to_datetime('2014-12-31')]"
   ]
  },
  {
   "cell_type": "code",
   "execution_count": 59,
   "metadata": {
    "collapsed": true
   },
   "outputs": [],
   "source": [
    "y = df1['count'].values"
   ]
  },
  {
   "cell_type": "code",
   "execution_count": 60,
   "metadata": {
    "collapsed": true
   },
   "outputs": [],
   "source": [
    "y_truth = df2['count'].values"
   ]
  },
  {
   "cell_type": "code",
   "execution_count": 61,
   "metadata": {
    "collapsed": false
   },
   "outputs": [],
   "source": [
    "pred_len = y.shape[0]\n",
    "total_len = df['count'].values.shape[0]"
   ]
  },
  {
   "cell_type": "code",
   "execution_count": 66,
   "metadata": {
    "collapsed": false
   },
   "outputs": [],
   "source": [
    "x1 = np.arange(y.shape[0])\n",
    "x1 = x1.reshape(-1, 1)"
   ]
  },
  {
   "cell_type": "code",
   "execution_count": 67,
   "metadata": {
    "collapsed": false
   },
   "outputs": [],
   "source": [
    "x2 = np.arange(y_truth.shape[0])\n",
    "x2 = x2.reshape(-1, 1)"
   ]
  },
  {
   "cell_type": "code",
   "execution_count": 68,
   "metadata": {
    "collapsed": false
   },
   "outputs": [],
   "source": [
    "gp = gaussian_process.GaussianProcessRegressor(kernel=kernel)"
   ]
  },
  {
   "cell_type": "code",
   "execution_count": 70,
   "metadata": {
    "collapsed": false
   },
   "outputs": [
    {
     "data": {
      "text/plain": [
       "GaussianProcessRegressor(alpha=1e-10, copy_X_train=True,\n",
       "             kernel=1**2 * RBF(length_scale=10), n_restarts_optimizer=0,\n",
       "             normalize_y=False, optimizer='fmin_l_bfgs_b',\n",
       "             random_state=None)"
      ]
     },
     "execution_count": 70,
     "metadata": {},
     "output_type": "execute_result"
    }
   ],
   "source": [
    "gp.fit(x1, y)"
   ]
  },
  {
   "cell_type": "code",
   "execution_count": 71,
   "metadata": {
    "collapsed": true
   },
   "outputs": [],
   "source": [
    "y_pred, sigma = gp.predict(x2, return_std=True)"
   ]
  },
  {
   "cell_type": "code",
   "execution_count": 73,
   "metadata": {
    "collapsed": false
   },
   "outputs": [
    {
     "data": {
      "text/plain": [
       "[<matplotlib.lines.Line2D at 0x1137bbd50>]"
      ]
     },
     "execution_count": 73,
     "metadata": {},
     "output_type": "execute_result"
    },
    {
     "data": {
      "image/png": "[encoded data removed]",
      "text/plain": [
       "<matplotlib.figure.Figure at 0x11589bb10>"
      ]
     },
     "metadata": {},
     "output_type": "display_data"
    }
   ],
   "source": [
    "fig = plt.figure()\n",
    "plt.plot(x2, y_pred, 'r.', markersize=10, label=u'Observations')\n",
    "plt.plot(x2, y_truth, 'b.', label=u'Prediction')"
   ]
  },
  {
   "cell_type": "code",
   "execution_count": 85,
   "metadata": {
    "collapsed": true
   },
   "outputs": [],
   "source": [
    "avg =  np.array([(y_pred - y_truth)**2 for i in xrange(len(y_pred))])\n"
   ]
  },
  {
   "cell_type": "code",
   "execution_count": 86,
   "metadata": {
    "collapsed": false
   },
   "outputs": [
    {
     "data": {
      "text/plain": [
       "array([[ 1444.,  1089.,   100., ...,  1764.,  4900.,  3721.],\n",
       "       [ 1444.,  1089.,   100., ...,  1764.,  4900.,  3721.],\n",
       "       [ 1444.,  1089.,   100., ...,  1764.,  4900.,  3721.],\n",
       "       ..., \n",
       "       [ 1444.,  1089.,   100., ...,  1764.,  4900.,  3721.],\n",
       "       [ 1444.,  1089.,   100., ...,  1764.,  4900.,  3721.],\n",
       "       [ 1444.,  1089.,   100., ...,  1764.,  4900.,  3721.]])"
      ]
     },
     "execution_count": 86,
     "metadata": {},
     "output_type": "execute_result"
    }
   ],
   "source": [
    "avg"
   ]
  },
  {
   "cell_type": "code",
   "execution_count": 77,
   "metadata": {
    "collapsed": false
   },
   "outputs": [
    {
     "name": "stdout",
     "output_type": "stream",
     "text": [
      "639.366874337\n"
     ]
    }
   ],
   "source": [
    "print np.sqrt(avg.sum()/365)"
   ]
  },
  {
   "cell_type": "code",
   "execution_count": 78,
   "metadata": {
    "collapsed": false
   },
   "outputs": [
    {
     "data": {
      "text/plain": [
       "array([[ 1444.,  1089.,   100., ...,  1764.,  4900.,  3721.],\n",
       "       [ 1444.,  1089.,   100., ...,  1764.,  4900.,  3721.],\n",
       "       [ 1444.,  1089.,   100., ...,  1764.,  4900.,  3721.],\n",
       "       ..., \n",
       "       [ 1444.,  1089.,   100., ...,  1764.,  4900.,  3721.],\n",
       "       [ 1444.,  1089.,   100., ...,  1764.,  4900.,  3721.],\n",
       "       [ 1444.,  1089.,   100., ...,  1764.,  4900.,  3721.]])"
      ]
     },
     "execution_count": 78,
     "metadata": {},
     "output_type": "execute_result"
    }
   ],
   "source": [
    "avg"
   ]
  },
  {
   "cell_type": "code",
   "execution_count": 88,
   "metadata": {
    "collapsed": false
   },
   "outputs": [
    {
     "data": {
      "text/plain": [
       "33.465991733984936"
      ]
     },
     "execution_count": 88,
     "metadata": {},
     "output_type": "execute_result"
    }
   ],
   "source": [
    "np.sqrt(np.square(y_truth - y_pred).sum()/365)"
   ]
  }
 ],
 "metadata": {
  "anaconda-cloud": {},
  "kernelspec": {
   "display_name": "Python [default]",
   "language": "python",
   "name": "python2"
  },
  "language_info": {
   "codemirror_mode": {
    "name": "ipython",
    "version": 2
   },
   "file_extension": ".py",
   "mimetype": "text/x-python",
   "name": "python",
   "nbconvert_exporter": "python",
   "pygments_lexer": "ipython2",
   "version": "2.7.12"
  }
 },
 "nbformat": 4,
 "nbformat_minor": 2
}
